{
 "cells": [
  {
   "cell_type": "code",
   "execution_count": 1,
   "metadata": {},
   "outputs": [],
   "source": [
    "import warnings\n",
    "warnings.filterwarnings('ignore')\n",
    "\n",
    "import pandas as pd\n",
    "import matplotlib.pyplot as plt\n",
    "import os"
   ]
  },
  {
   "cell_type": "code",
   "execution_count": 2,
   "metadata": {},
   "outputs": [],
   "source": [
    "PATH = '../'"
   ]
  },
  {
   "cell_type": "code",
   "execution_count": 3,
   "metadata": {},
   "outputs": [],
   "source": [
    "def get_log(fnames, fn, sortby):\n",
    "    dfs = []\n",
    "    for fname in fnames:\n",
    "        dfs.append(fn(fname))\n",
    "    df = pd.concat(dfs)\n",
    "    df.sort_values(by=[sortby], inplace=True)\n",
    "    return df"
   ]
  },
  {
   "cell_type": "markdown",
   "metadata": {},
   "source": [
    "# Server log"
   ]
  },
  {
   "cell_type": "code",
   "execution_count": 4,
   "metadata": {},
   "outputs": [],
   "source": [
    "def get_server_log(fname):\n",
    "    df = pd.read_csv(fname, sep=']', header=None)\n",
    "    df = df.iloc[:, [0, 8]]\n",
    "    df.columns = ['end_time', 'duration']\n",
    "    df['end_time'] = df.end_time.str.replace('[', '')\n",
    "    df.duration = df.duration.str.replace('duration \\[', '')\n",
    "    df.end_time = pd.to_datetime(df.end_time)\n",
    "    df['start_time'] = df.end_time - pd.to_timedelta(df.duration)\n",
    "    df = df[['start_time', 'end_time', 'duration']]\n",
    "    df = df.rename(columns={'start_time': 'start', 'end_time': 'end'})\n",
    "    return df"
   ]
  },
  {
   "cell_type": "markdown",
   "metadata": {},
   "source": [
    "# Slow log"
   ]
  },
  {
   "cell_type": "code",
   "execution_count": 5,
   "metadata": {},
   "outputs": [],
   "source": [
    "def load_slow_log(fname):\n",
    "    df = pd.read_csv(fname, sep=']', header=None)\n",
    "    df = df.iloc[:, [0, 4, 6, 13]]\n",
    "    df.columns = ['end_time', 'es_index', 'duration', 'is_sort']\n",
    "    df.end_time = df.end_time.str.replace('[', '')\n",
    "    df.es_index = df.es_index.str.replace('[', '')\n",
    "    df.duration = df.duration.str.replace('took\\[', '')\n",
    "    df.is_sort = df.is_sort.apply(lambda val: True if 'sort' in val else False)\n",
    "    df.end_time = pd.to_datetime(df.end_time)\n",
    "    df['start_time'] = df.end_time - pd.to_timedelta(df.duration)\n",
    "    df = df[['start_time', 'end_time', 'duration', 'es_index', 'is_sort']]\n",
    "    df = df.rename(columns={'start_time': 'start', 'end_time': 'end'})\n",
    "    return df"
   ]
  },
  {
   "cell_type": "markdown",
   "metadata": {},
   "source": [
    "# Validation"
   ]
  },
  {
   "cell_type": "code",
   "execution_count": 6,
   "metadata": {},
   "outputs": [],
   "source": [
    "def are_subsequent(first, second=None):\n",
    "    if second is None:\n",
    "        res = [first.iloc[i] <= first.iloc[i+1] for i in range(len(first)-1)]\n",
    "        return all(res), res\n",
    "    intervals = []\n",
    "    for s, e in zip(first, second):\n",
    "        intervals.append(s)\n",
    "        intervals.append(e)\n",
    "    res = [intervals[i] <= intervals[i+1] for i in range(len(intervals)-1)]\n",
    "    return all(res), res"
   ]
  },
  {
   "cell_type": "markdown",
   "metadata": {},
   "source": [
    "# Compare"
   ]
  },
  {
   "cell_type": "code",
   "execution_count": 7,
   "metadata": {},
   "outputs": [],
   "source": [
    "def print_stats(server_log, slow_log):\n",
    "    # Before first gc\n",
    "    print('{}\\t{}\\t\\t\\t\\t\\t{}'.format(0, 'n/a', len(slow_log[slow_log.start < server_log.iloc[0].start])))\n",
    "    # Between first-second, second-third, etc\n",
    "    for i in range(len(server_log)-1):\n",
    "        prev_gc_start = server_log.iloc[i].start\n",
    "        gc_start = server_log.iloc[i+1].start\n",
    "        # sort queries before gc and after previous gc\n",
    "        df = slow_log[(slow_log.start <= gc_start) & (slow_log.start >= prev_gc_start)]\n",
    "        print('{}\\t{}\\t{}\\t{}'.format(i+1, gc_start, server_log.iloc[i+1].duration, len(df[['start', 'end']])))"
   ]
  },
  {
   "cell_type": "markdown",
   "metadata": {},
   "source": [
    "# Hypothesis\n",
    "There is initial burst of sort queries, which triggers gc, the unprocessed queries are queued and after gc they cause anohter gc and another, resulting in long jvm pause, after/during which a node can not communicate with master and disconnects or get disconnected from the cluster."
   ]
  },
  {
   "cell_type": "markdown",
   "metadata": {},
   "source": [
    "# Tests"
   ]
  },
  {
   "cell_type": "code",
   "execution_count": 8,
   "metadata": {},
   "outputs": [],
   "source": [
    "def extract_gc_lines(path):\n",
    "    server_logs = ['{}/{}'.format(path, name) for name in os.listdir(path) if 'insight-neo.log' in name]\n",
    "    for i, server_log in enumerate(server_logs):\n",
    "        wrote = False\n",
    "        gc_log = '{}/{}.gc'.format(path, i)\n",
    "        with open(server_log) as fr:\n",
    "            with open(gc_log, 'w+') as fw:\n",
    "                for line in fr:\n",
    "                    if '[gc]' in line and 'duration' in line:\n",
    "                        fw.write(line)\n",
    "                        wrote = True\n",
    "        if not wrote:\n",
    "            os.remove(gc_log)"
   ]
  },
  {
   "cell_type": "code",
   "execution_count": 9,
   "metadata": {},
   "outputs": [],
   "source": [
    "def run(path, should_raise=True):\n",
    "    extract_gc_lines(path)\n",
    "    server_logs = ['{}/{}'.format(path, name) for name in os.listdir(path) if name.endswith('gc')]\n",
    "    server_log = get_log(server_logs, get_server_log, 'start')\n",
    "    slow_logs = ['{}/{}'.format(path, name) for name in os.listdir(path) if 'slowlog' in name]\n",
    "    slow_log = get_log(slow_logs, load_slow_log, 'start')\n",
    "    assert1 = [are_subsequent(e) for e in [slow_log.start, slow_log.end, server_log.start, server_log.end]]\n",
    "    expected1 = [True, False, True, True]\n",
    "    compare(assert1, expected1, should_raise)\n",
    "    assert2 = [are_subsequent(*e) for e in [(slow_log.start, slow_log.end), (server_log.start, server_log.end)]]\n",
    "    expected2 = [False, True]\n",
    "    compare(assert2, expected2, should_raise)\n",
    "    \n",
    "    server_log = server_log[(server_log.start >= slow_log.iloc[0].start)]\n",
    "    \n",
    "    print_stats(server_log, slow_log)"
   ]
  },
  {
   "cell_type": "code",
   "execution_count": 10,
   "metadata": {},
   "outputs": [],
   "source": [
    "def compare(actual, expected, should_raise=True):\n",
    "    try:\n",
    "        for i, a in enumerate(actual):\n",
    "            assert expected[i] == a[0]\n",
    "    except AssertionError:\n",
    "        print('At index {} it was expected {} but it was {}. Complete list: {}'.format(\n",
    "            i, expected[i], a[0], a[1]))\n",
    "        if should_raise:\n",
    "            raise"
   ]
  },
  {
   "cell_type": "code",
   "execution_count": 11,
   "metadata": {
    "scrolled": false
   },
   "outputs": [
    {
     "name": "stdout",
     "output_type": "stream",
     "text": [
      "0\tn/a\t\t\t\t\t173\n",
      "1\t2018-08-01 13:26:35.127000\t 1.2m\t28\n",
      "2\t2018-08-01 13:27:47.427000\t 57.5s\t0\n",
      "3\t2018-08-01 13:28:51.538000\t 1.2m\t4\n",
      "4\t2018-08-01 13:30:03.988000\t 58s\t0\n",
      "5\t2018-08-01 13:31:03.191000\t 1.3m\t1\n",
      "6\t2018-08-01 13:32:21.520000\t 58.4s\t1\n",
      "7\t2018-08-01 13:33:20.407000\t 1.3m\t0\n",
      "8\t2018-08-01 13:34:38.717000\t 58.1s\t0\n",
      "9\t2018-08-01 13:35:41.860000\t 1.2m\t0\n",
      "10\t2018-08-01 13:36:54.034000\t 56.4s\t0\n",
      "11\t2018-08-01 13:37:55.001000\t 1.2m\t2\n",
      "12\t2018-08-01 13:39:12.317000\t 11.6m\t1\n",
      "13\t2018-08-01 13:50:51.214000\t 1.4m\t0\n",
      "14\t2018-08-01 13:52:15.588000\t 58.9s\t0\n"
     ]
    }
   ],
   "source": [
    "run(PATH+'54-gc-logs')"
   ]
  },
  {
   "cell_type": "code",
   "execution_count": 12,
   "metadata": {},
   "outputs": [
    {
     "name": "stdout",
     "output_type": "stream",
     "text": [
      "0\tn/a\t\t\t\t\t101\n",
      "1\t2018-08-01 13:26:02.825000\t 1.1m\t46\n",
      "2\t2018-08-01 13:27:09.399000\t 55.9s\t3\n",
      "3\t2018-08-01 13:28:10.527000\t 1.2m\t5\n",
      "4\t2018-08-01 13:29:22.877000\t 56.6s\t0\n",
      "5\t2018-08-01 13:30:23.443000\t 1.2m\t0\n",
      "6\t2018-08-01 13:31:35.737000\t 56.6s\t0\n",
      "7\t2018-08-01 13:32:36.153000\t 1.2m\t0\n",
      "8\t2018-08-01 13:33:48.522000\t 56.7s\t0\n",
      "9\t2018-08-01 13:34:49.213000\t 1.2m\t0\n",
      "10\t2018-08-01 13:36:01.364000\t 56.6s\t0\n",
      "11\t2018-08-01 13:37:01.816000\t 1.2m\t0\n",
      "12\t2018-08-01 13:38:14.029000\t 57s\t0\n",
      "13\t2018-08-01 13:39:14.779000\t 5.3m\t0\n"
     ]
    }
   ],
   "source": [
    "run(PATH+'05-gc-logs')"
   ]
  },
  {
   "cell_type": "code",
   "execution_count": 13,
   "metadata": {},
   "outputs": [
    {
     "name": "stdout",
     "output_type": "stream",
     "text": [
      "At index 1 it was expected True but it was False. Complete list: [True, True, True, True, True, False, True, True, True, True, True, True, True, True, True, True, True, True, True, True, True, True, True, True, True, True, True, True, True]\n",
      "0\tn/a\t\t\t\t\t90\n",
      "1\t2018-08-01 13:26:29.991000\t 789ms\t7\n",
      "2\t2018-08-01 13:26:38.749000\t 1m\t2\n",
      "3\t2018-08-01 13:27:38.031000\t 718ms\t0\n",
      "4\t2018-08-01 13:28:30.497000\t 749ms\t58\n",
      "5\t2018-08-01 13:28:32.632000\t 1.2m\t0\n",
      "6\t2018-08-01 13:29:45.164000\t 57s\t0\n",
      "7\t2018-08-01 13:30:47.599000\t 1.2m\t0\n",
      "8\t2018-08-01 13:32:00.176000\t 57.8s\t0\n",
      "9\t2018-08-01 13:33:01.158000\t 1.4m\t0\n",
      "10\t2018-08-01 13:34:25.427000\t 58s\t0\n",
      "11\t2018-08-01 13:35:23.779000\t 1.3m\t0\n",
      "12\t2018-08-01 13:36:41.916000\t 58.3s\t0\n",
      "13\t2018-08-02 13:07:05.011000\t 15s\t61\n",
      "14\t2018-08-03 06:33:10.138000\t 20.5s\t0\n"
     ]
    }
   ],
   "source": [
    "run(PATH+'55-gc-logs', should_raise=False)"
   ]
  },
  {
   "cell_type": "code",
   "execution_count": 14,
   "metadata": {},
   "outputs": [
    {
     "name": "stdout",
     "output_type": "stream",
     "text": [
      "0\tn/a\t\t\t\t\t153\n",
      "1\t2018-08-03 07:37:15.232000\t 19.5s\t146\n"
     ]
    }
   ],
   "source": [
    "run(PATH+'15-gc-logs')"
   ]
  },
  {
   "cell_type": "code",
   "execution_count": 15,
   "metadata": {},
   "outputs": [
    {
     "name": "stdout",
     "output_type": "stream",
     "text": [
      "0\tn/a\t\t\t\t\t296\n"
     ]
    }
   ],
   "source": [
    "run(PATH+'04-gc-logs')"
   ]
  },
  {
   "cell_type": "code",
   "execution_count": 16,
   "metadata": {},
   "outputs": [
    {
     "name": "stdout",
     "output_type": "stream",
     "text": [
      "0\tn/a\t\t\t\t\t110\n",
      "1\t2018-08-03 12:43:13.764000\t 1.1m\t73\n",
      "2\t2018-08-03 12:44:26.362000\t 1.2m\t1\n",
      "3\t2018-08-03 12:45:38.944000\t 57.7s\t0\n"
     ]
    }
   ],
   "source": [
    "run(PATH+'57-gc-logs')"
   ]
  },
  {
   "cell_type": "code",
   "execution_count": 17,
   "metadata": {},
   "outputs": [
    {
     "name": "stdout",
     "output_type": "stream",
     "text": [
      "0\tn/a\t\t\t\t\t129\n",
      "1\t2018-08-03 12:45:11.187000\t 58.5s\t47\n",
      "2\t2018-08-03 12:46:15.071000\t 1.2m\t0\n",
      "3\t2018-08-03 12:47:27.526000\t 56.9s\t0\n",
      "4\t2018-08-03 12:48:27.845000\t 1.3m\t0\n",
      "5\t2018-08-03 12:49:46.257000\t 58s\t0\n"
     ]
    }
   ],
   "source": [
    "run(PATH+'09-gc-logs')"
   ]
  },
  {
   "cell_type": "code",
   "execution_count": null,
   "metadata": {},
   "outputs": [],
   "source": []
  }
 ],
 "metadata": {
  "kernelspec": {
   "display_name": "Python 3",
   "language": "python",
   "name": "python3"
  },
  "language_info": {
   "codemirror_mode": {
    "name": "ipython",
    "version": 3
   },
   "file_extension": ".py",
   "mimetype": "text/x-python",
   "name": "python",
   "nbconvert_exporter": "python",
   "pygments_lexer": "ipython3",
   "version": "3.5.5"
  }
 },
 "nbformat": 4,
 "nbformat_minor": 2
}
